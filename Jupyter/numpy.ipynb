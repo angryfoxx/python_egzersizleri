{
 "cells": [
  {
   "cell_type": "code",
   "execution_count": 23,
   "id": "acb95106",
   "metadata": {},
   "outputs": [],
   "source": [
    "import numpy as np"
   ]
  },
  {
   "cell_type": "code",
   "execution_count": 40,
   "id": "b2155a98",
   "metadata": {},
   "outputs": [],
   "source": [
    "matrix = [[1,2,3],[1,5,10],[3,5,8]]\n",
    "matrix_ = [[3,5,7],[2,8,3],[4,5,9]]"
   ]
  },
  {
   "cell_type": "code",
   "execution_count": 41,
   "id": "00a288ae",
   "metadata": {},
   "outputs": [
    {
     "name": "stdout",
     "output_type": "stream",
     "text": [
      "[[ 1  2  3]\n",
      " [ 1  5 10]\n",
      " [ 3  5  8]]\n"
     ]
    }
   ],
   "source": [
    "print(np.array(matrix))"
   ]
  },
  {
   "cell_type": "code",
   "execution_count": 42,
   "id": "5b62d714",
   "metadata": {},
   "outputs": [
    {
     "name": "stdout",
     "output_type": "stream",
     "text": [
      "[[1. 0. 0. 0. 0.]\n",
      " [0. 1. 0. 0. 0.]\n",
      " [0. 0. 1. 0. 0.]\n",
      " [0. 0. 0. 1. 0.]\n",
      " [0. 0. 0. 0. 1.]]\n"
     ]
    }
   ],
   "source": [
    "print(np.eye(5))"
   ]
  },
  {
   "cell_type": "code",
   "execution_count": 43,
   "id": "c1ba2924",
   "metadata": {},
   "outputs": [
    {
     "name": "stdout",
     "output_type": "stream",
     "text": [
      "[ 0.          0.52631579  1.05263158  1.57894737  2.10526316  2.63157895\n",
      "  3.15789474  3.68421053  4.21052632  4.73684211  5.26315789  5.78947368\n",
      "  6.31578947  6.84210526  7.36842105  7.89473684  8.42105263  8.94736842\n",
      "  9.47368421 10.        ]\n"
     ]
    }
   ],
   "source": [
    "print(np.linspace(0,10,20))"
   ]
  },
  {
   "cell_type": "code",
   "execution_count": 44,
   "id": "7d679a64",
   "metadata": {},
   "outputs": [
    {
     "name": "stdout",
     "output_type": "stream",
     "text": [
      "[0 2 4 6 8]\n"
     ]
    }
   ],
   "source": [
    "print(np.arange(0,10,2))"
   ]
  },
  {
   "cell_type": "code",
   "execution_count": 45,
   "id": "129b1b52",
   "metadata": {},
   "outputs": [
    {
     "name": "stdout",
     "output_type": "stream",
     "text": [
      "[0. 0. 0. 0. 0.]\n",
      "[1. 1. 1. 1. 1.]\n",
      "[[1. 1.]\n",
      " [1. 1.]]\n"
     ]
    }
   ],
   "source": [
    "print(np.zeros(5))\n",
    "print(np.ones(5))\n",
    "print(np.ones((2,2)))"
   ]
  },
  {
   "cell_type": "code",
   "execution_count": 46,
   "id": "0672f95c",
   "metadata": {},
   "outputs": [
    {
     "name": "stdout",
     "output_type": "stream",
     "text": [
      "[[-0.03843963  1.18442332  0.78612885  0.76908164]\n",
      " [ 0.31321516  0.22046842 -2.8178019  -1.09666971]\n",
      " [ 2.99986309  0.40696512 -1.05118516 -1.53215686]\n",
      " [-0.99752973 -2.09181527 -0.45931431  1.85847448]]\n"
     ]
    }
   ],
   "source": [
    "print(np.random.randn(4,4))"
   ]
  },
  {
   "cell_type": "code",
   "execution_count": 57,
   "id": "49d010dc",
   "metadata": {},
   "outputs": [
    {
     "name": "stdout",
     "output_type": "stream",
     "text": [
      "[5 3]\n"
     ]
    }
   ],
   "source": [
    "print(np.random.randint(1,7,2))"
   ]
  },
  {
   "cell_type": "code",
   "execution_count": 48,
   "id": "09a51613",
   "metadata": {},
   "outputs": [],
   "source": [
    "random_dizi = np.random.randint(0,100,30)"
   ]
  },
  {
   "cell_type": "code",
   "execution_count": 49,
   "id": "70628b6c",
   "metadata": {},
   "outputs": [
    {
     "name": "stdout",
     "output_type": "stream",
     "text": [
      "99 4\n",
      "2 20\n"
     ]
    }
   ],
   "source": [
    "print(random_dizi.max(),random_dizi.argmax())\n",
    "print(random_dizi.min(),random_dizi.argmin())"
   ]
  },
  {
   "cell_type": "code",
   "execution_count": 50,
   "id": "3151d2a3",
   "metadata": {},
   "outputs": [],
   "source": [
    "res = random_dizi.reshape(5,6)"
   ]
  },
  {
   "cell_type": "code",
   "execution_count": 51,
   "id": "11de1c29",
   "metadata": {},
   "outputs": [
    {
     "name": "stdout",
     "output_type": "stream",
     "text": [
      "[[83 22 12 15 99 93]\n",
      " [13 98 44 60 96 94]\n",
      " [61 38 50 95 16 99]\n",
      " [97 91  2 66 51 50]\n",
      " [69 31 11 69 27 42]]\n",
      "(5, 6)\n"
     ]
    }
   ],
   "source": [
    "print(random_dizi.reshape(5,6))\n",
    "print(res.shape)"
   ]
  },
  {
   "cell_type": "code",
   "execution_count": 52,
   "id": "0a9161d7",
   "metadata": {},
   "outputs": [
    {
     "name": "stdout",
     "output_type": "stream",
     "text": [
      "[ True False False False  True  True False  True False  True  True  True\n",
      "  True False False  True False  True  True  True False  True  True False\n",
      "  True False False  True False False]\n",
      "[83 99 93 98 60 96 94 61 95 99 97 91 66 51 69 69]\n"
     ]
    }
   ],
   "source": [
    "print(random_dizi > 50)\n",
    "print(random_dizi[random_dizi > 50])"
   ]
  },
  {
   "cell_type": "code",
   "execution_count": 53,
   "id": "4d69e3be",
   "metadata": {},
   "outputs": [
    {
     "name": "stdout",
     "output_type": "stream",
     "text": [
      "[83 22 12 15 99 93 13 98 44 60 96 94 61 38 50 95 16 99 97 91  2 66 51 50\n",
      " 69 31 11 69 27 42]\n"
     ]
    }
   ],
   "source": [
    "print(random_dizi)"
   ]
  },
  {
   "cell_type": "code",
   "execution_count": 54,
   "id": "4c1d56c5",
   "metadata": {},
   "outputs": [
    {
     "name": "stdout",
     "output_type": "stream",
     "text": [
      "[83 22 12 -5 -5 -5 -5 -5 44 60 96 94 61 38 50 95 16 99 97 91  2 66 51 50\n",
      " 69 31 11 69 27 42]\n"
     ]
    }
   ],
   "source": [
    "random_dizi[3:8] = -5\n",
    "print(random_dizi)"
   ]
  },
  {
   "cell_type": "code",
   "execution_count": 55,
   "id": "17f46f5d",
   "metadata": {},
   "outputs": [
    {
     "name": "stdout",
     "output_type": "stream",
     "text": [
      "[[ 4  7 10]\n",
      " [ 3 13 13]\n",
      " [ 7 10 17]]\n"
     ]
    }
   ],
   "source": [
    "print(np.array(matrix) + np.array(matrix_))"
   ]
  }
 ],
 "metadata": {
  "kernelspec": {
   "display_name": "Python 3 (ipykernel)",
   "language": "python",
   "name": "python3"
  },
  "language_info": {
   "codemirror_mode": {
    "name": "ipython",
    "version": 3
   },
   "file_extension": ".py",
   "mimetype": "text/x-python",
   "name": "python",
   "nbconvert_exporter": "python",
   "pygments_lexer": "ipython3",
   "version": "3.9.7"
  }
 },
 "nbformat": 4,
 "nbformat_minor": 5
}
