{
 "cells": [
  {
   "cell_type": "code",
   "execution_count": 1,
   "id": "35989f78",
   "metadata": {},
   "outputs": [],
   "source": [
    "def perfect_number(a):\n",
    "    divisors_list = list()\n",
    "    for i in range(1,a):\n",
    "        if a % i == 0:\n",
    "            divisors_list.append(i)\n",
    "    if sum(divisors_list) == a:\n",
    "        return a"
   ]
  },
  {
   "cell_type": "code",
   "execution_count": 2,
   "id": "46af3872",
   "metadata": {},
   "outputs": [
    {
     "name": "stdout",
     "output_type": "stream",
     "text": [
      "[6, 28, 496, 8128]\n"
     ]
    }
   ],
   "source": [
    "perfect_number_list = list()\n",
    "for i in range(1,10000):\n",
    "    if perfect_number(i) != None:\n",
    "        perfect_number_list.append(i)\n",
    "print(perfect_number_list)"
   ]
  },
  {
   "cell_type": "code",
   "execution_count": 1,
   "id": "430ce79a",
   "metadata": {},
   "outputs": [],
   "source": [
    "def fib(sinir):\n",
    "    a, b = 0, 1\n",
    "    liste = []\n",
    "    while b < sinir:\n",
    "        liste.append(b)\n",
    "        a, b = b, a + b\n",
    "    return liste\n"
   ]
  },
  {
   "cell_type": "code",
   "execution_count": 4,
   "id": "501eef3d",
   "metadata": {},
   "outputs": [
    {
     "name": "stdout",
     "output_type": "stream",
     "text": [
      "[1, 1, 2, 3, 5, 8, 13, 21, 34, 55, 89, 144, 233, 377, 610, 987, 1597, 2584, 4181, 6765]\n"
     ]
    }
   ],
   "source": [
    "print(fib(10000))"
   ]
  },
  {
   "cell_type": "code",
   "execution_count": 15,
   "id": "bd45f767",
   "metadata": {},
   "outputs": [
    {
     "name": "stdout",
     "output_type": "stream",
     "text": [
      "      \n",
      "*     *\n",
      "**    **\n",
      "***   ***\n",
      "****  ****\n",
      "***** *****\n"
     ]
    }
   ],
   "source": [
    "for i,j in zip(range(6),range(6,0,-1)):\n",
    "    print(\"*\" * i + \" \" * j + \"*\" * i)"
   ]
  },
  {
   "cell_type": "code",
   "execution_count": null,
   "id": "535b8724",
   "metadata": {},
   "outputs": [],
   "source": []
  }
 ],
 "metadata": {
  "kernelspec": {
   "display_name": "Python 3 (ipykernel)",
   "language": "python",
   "name": "python3"
  },
  "language_info": {
   "codemirror_mode": {
    "name": "ipython",
    "version": 3
   },
   "file_extension": ".py",
   "mimetype": "text/x-python",
   "name": "python",
   "nbconvert_exporter": "python",
   "pygments_lexer": "ipython3",
   "version": "3.8.9"
  }
 },
 "nbformat": 4,
 "nbformat_minor": 5
}
