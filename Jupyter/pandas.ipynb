{
 "cells": [
  {
   "cell_type": "code",
   "execution_count": 2,
   "id": "2c69f2e6",
   "metadata": {},
   "outputs": [],
   "source": [
    "import numpy as np\n",
    "import pandas as pd"
   ]
  },
  {
   "cell_type": "code",
   "execution_count": 106,
   "id": "4c2bb56e",
   "metadata": {},
   "outputs": [],
   "source": [
    "dictionary = {\n",
    "    \"Bmw\" : 300000,\n",
    "    \"Mercedes\" : 500000,\n",
    "    \"Tofaş\" : 20000\n",
    "}"
   ]
  },
  {
   "cell_type": "code",
   "execution_count": 107,
   "id": "2e8f8564",
   "metadata": {},
   "outputs": [
    {
     "data": {
      "text/plain": "Bmw         300000\nMercedes    500000\nTofaş        20000\ndtype: int64"
     },
     "execution_count": 107,
     "metadata": {},
     "output_type": "execute_result"
    }
   ],
   "source": [
    "pd.Series(dictionary)"
   ]
  },
  {
   "cell_type": "code",
   "execution_count": 108,
   "id": "916f3ab3",
   "metadata": {},
   "outputs": [
    {
     "data": {
      "text/plain": "0    50\n1    40\n2    30\ndtype: int32"
     },
     "execution_count": 108,
     "metadata": {},
     "output_type": "execute_result"
    }
   ],
   "source": [
    "arr = np.array([50,40,30])\n",
    "pd.Series(arr)"
   ]
  },
  {
   "cell_type": "code",
   "execution_count": 109,
   "id": "ab7e1141",
   "metadata": {},
   "outputs": [],
   "source": [
    "isim = [\"Ömer\",\"Sinem\",\"Gece\"]\n",
    "yas = [18,18,1]"
   ]
  },
  {
   "cell_type": "code",
   "execution_count": 110,
   "id": "467d16a2",
   "metadata": {},
   "outputs": [
    {
     "data": {
      "text/plain": "Ömer     18\nSinem    18\nGece      1\ndtype: int64"
     },
     "execution_count": 110,
     "metadata": {},
     "output_type": "execute_result"
    }
   ],
   "source": [
    "pd.Series(yas,isim)"
   ]
  },
  {
   "cell_type": "code",
   "execution_count": 111,
   "id": "a7b7d386",
   "metadata": {},
   "outputs": [
    {
     "data": {
      "text/plain": "Ömer     18\nSinem    18\nGece      1\ndtype: int64"
     },
     "execution_count": 111,
     "metadata": {},
     "output_type": "execute_result"
    }
   ],
   "source": [
    "pd.Series(data=yas,index=isim)"
   ]
  },
  {
   "cell_type": "code",
   "execution_count": 112,
   "id": "572b6660",
   "metadata": {},
   "outputs": [],
   "source": [
    "yarisma_1 = pd.Series([10,20,30],[\"Gece\",\"Ömer\",\"Sinem\"])\n",
    "yarisma_2 = pd.Series([1,50,20],[\"Gece\",\"Ömer\",\"Sinem\"])"
   ]
  },
  {
   "cell_type": "code",
   "execution_count": 113,
   "id": "81f4e3c9",
   "metadata": {},
   "outputs": [
    {
     "data": {
      "text/plain": "Gece     11\nÖmer     70\nSinem    50\ndtype: int64"
     },
     "execution_count": 113,
     "metadata": {},
     "output_type": "execute_result"
    }
   ],
   "source": [
    "yarisma_1 + yarisma_2"
   ]
  },
  {
   "cell_type": "code",
   "execution_count": 114,
   "id": "f6b165d1",
   "metadata": {},
   "outputs": [
    {
     "data": {
      "text/plain": "array([[92, 29, 43],\n       [77, 72, 49],\n       [39, 49,  1]])"
     },
     "execution_count": 114,
     "metadata": {},
     "output_type": "execute_result"
    }
   ],
   "source": [
    "data = np.array(np.random.randint(1,100,9)).reshape(3,3)\n",
    "data"
   ]
  },
  {
   "cell_type": "code",
   "execution_count": 115,
   "id": "3033a10b",
   "metadata": {},
   "outputs": [
    {
     "data": {
      "text/plain": "    0   1   2\n0  92  29  43\n1  77  72  49\n2  39  49   1",
      "text/html": "<div>\n<style scoped>\n    .dataframe tbody tr th:only-of-type {\n        vertical-align: middle;\n    }\n\n    .dataframe tbody tr th {\n        vertical-align: top;\n    }\n\n    .dataframe thead th {\n        text-align: right;\n    }\n</style>\n<table border=\"1\" class=\"dataframe\">\n  <thead>\n    <tr style=\"text-align: right;\">\n      <th></th>\n      <th>0</th>\n      <th>1</th>\n      <th>2</th>\n    </tr>\n  </thead>\n  <tbody>\n    <tr>\n      <th>0</th>\n      <td>92</td>\n      <td>29</td>\n      <td>43</td>\n    </tr>\n    <tr>\n      <th>1</th>\n      <td>77</td>\n      <td>72</td>\n      <td>49</td>\n    </tr>\n    <tr>\n      <th>2</th>\n      <td>39</td>\n      <td>49</td>\n      <td>1</td>\n    </tr>\n  </tbody>\n</table>\n</div>"
     },
     "execution_count": 115,
     "metadata": {},
     "output_type": "execute_result"
    }
   ],
   "source": [
    "data_frame = pd.DataFrame(data)\n",
    "data_frame"
   ]
  },
  {
   "cell_type": "code",
   "execution_count": 116,
   "id": "6944b9f6",
   "metadata": {},
   "outputs": [
    {
     "data": {
      "text/plain": "       Yaş  Maaş  Çalışma Saati\nSinem   92    29             43\nÖmer    77    72             49\nGece    39    49              1",
      "text/html": "<div>\n<style scoped>\n    .dataframe tbody tr th:only-of-type {\n        vertical-align: middle;\n    }\n\n    .dataframe tbody tr th {\n        vertical-align: top;\n    }\n\n    .dataframe thead th {\n        text-align: right;\n    }\n</style>\n<table border=\"1\" class=\"dataframe\">\n  <thead>\n    <tr style=\"text-align: right;\">\n      <th></th>\n      <th>Yaş</th>\n      <th>Maaş</th>\n      <th>Çalışma Saati</th>\n    </tr>\n  </thead>\n  <tbody>\n    <tr>\n      <th>Sinem</th>\n      <td>92</td>\n      <td>29</td>\n      <td>43</td>\n    </tr>\n    <tr>\n      <th>Ömer</th>\n      <td>77</td>\n      <td>72</td>\n      <td>49</td>\n    </tr>\n    <tr>\n      <th>Gece</th>\n      <td>39</td>\n      <td>49</td>\n      <td>1</td>\n    </tr>\n  </tbody>\n</table>\n</div>"
     },
     "execution_count": 116,
     "metadata": {},
     "output_type": "execute_result"
    }
   ],
   "source": [
    "new_data_frame = pd.DataFrame(data,index=[\"Sinem\",\"Ömer\",\"Gece\"],columns=[\"Yaş\",\"Maaş\",\"Çalışma Saati\"])\n",
    "new_data_frame"
   ]
  },
  {
   "cell_type": "code",
   "execution_count": 117,
   "id": "e8a7dcb1",
   "metadata": {},
   "outputs": [
    {
     "data": {
      "text/plain": "Sinem    92\nÖmer     77\nGece     39\nName: Yaş, dtype: int32"
     },
     "execution_count": 117,
     "metadata": {},
     "output_type": "execute_result"
    }
   ],
   "source": [
    "new_data_frame[\"Yaş\"]"
   ]
  },
  {
   "cell_type": "code",
   "execution_count": 118,
   "id": "959ed7ad",
   "metadata": {},
   "outputs": [
    {
     "data": {
      "text/plain": "92"
     },
     "execution_count": 118,
     "metadata": {},
     "output_type": "execute_result"
    }
   ],
   "source": [
    "new_data_frame[\"Yaş\"][\"Sinem\"]"
   ]
  },
  {
   "cell_type": "code",
   "execution_count": 119,
   "id": "7bbae4de",
   "metadata": {},
   "outputs": [
    {
     "data": {
      "text/plain": "Yaş              92\nMaaş             29\nÇalışma Saati    43\nName: Sinem, dtype: int32"
     },
     "execution_count": 119,
     "metadata": {},
     "output_type": "execute_result"
    }
   ],
   "source": [
    "new_data_frame.loc[\"Sinem\"]"
   ]
  },
  {
   "cell_type": "code",
   "execution_count": 120,
   "id": "ffdb7c8b",
   "metadata": {},
   "outputs": [
    {
     "data": {
      "text/plain": "Yaş              92\nMaaş             29\nÇalışma Saati    43\nName: Sinem, dtype: int32"
     },
     "execution_count": 120,
     "metadata": {},
     "output_type": "execute_result"
    }
   ],
   "source": [
    "new_data_frame.iloc[0]"
   ]
  },
  {
   "cell_type": "code",
   "execution_count": 121,
   "id": "2e0a345b",
   "metadata": {},
   "outputs": [
    {
     "data": {
      "text/plain": "       Yaş  Maaş  Çalışma Saati\nSinem   92    29             43\nÖmer    77    72             49",
      "text/html": "<div>\n<style scoped>\n    .dataframe tbody tr th:only-of-type {\n        vertical-align: middle;\n    }\n\n    .dataframe tbody tr th {\n        vertical-align: top;\n    }\n\n    .dataframe thead th {\n        text-align: right;\n    }\n</style>\n<table border=\"1\" class=\"dataframe\">\n  <thead>\n    <tr style=\"text-align: right;\">\n      <th></th>\n      <th>Yaş</th>\n      <th>Maaş</th>\n      <th>Çalışma Saati</th>\n    </tr>\n  </thead>\n  <tbody>\n    <tr>\n      <th>Sinem</th>\n      <td>92</td>\n      <td>29</td>\n      <td>43</td>\n    </tr>\n    <tr>\n      <th>Ömer</th>\n      <td>77</td>\n      <td>72</td>\n      <td>49</td>\n    </tr>\n  </tbody>\n</table>\n</div>"
     },
     "execution_count": 121,
     "metadata": {},
     "output_type": "execute_result"
    }
   ],
   "source": [
    "new_data_frame.loc[[\"Sinem\",\"Ömer\"]]"
   ]
  },
  {
   "cell_type": "code",
   "execution_count": 122,
   "id": "e5cbbbc9",
   "metadata": {},
   "outputs": [
    {
     "data": {
      "text/plain": "       Yaş  Maaş\nSinem   92    29\nÖmer    77    72",
      "text/html": "<div>\n<style scoped>\n    .dataframe tbody tr th:only-of-type {\n        vertical-align: middle;\n    }\n\n    .dataframe tbody tr th {\n        vertical-align: top;\n    }\n\n    .dataframe thead th {\n        text-align: right;\n    }\n</style>\n<table border=\"1\" class=\"dataframe\">\n  <thead>\n    <tr style=\"text-align: right;\">\n      <th></th>\n      <th>Yaş</th>\n      <th>Maaş</th>\n    </tr>\n  </thead>\n  <tbody>\n    <tr>\n      <th>Sinem</th>\n      <td>92</td>\n      <td>29</td>\n    </tr>\n    <tr>\n      <th>Ömer</th>\n      <td>77</td>\n      <td>72</td>\n    </tr>\n  </tbody>\n</table>\n</div>"
     },
     "execution_count": 122,
     "metadata": {},
     "output_type": "execute_result"
    }
   ],
   "source": [
    "new_data_frame.loc[[\"Sinem\",\"Ömer\"]][[\"Yaş\",\"Maaş\"]]"
   ]
  },
  {
   "cell_type": "code",
   "execution_count": 123,
   "id": "4da84bc5",
   "metadata": {},
   "outputs": [],
   "source": [
    "new_data_frame[\"Günlük Çalışma Saati\"] = new_data_frame[\"Çalışma Saati\"] / 7"
   ]
  },
  {
   "cell_type": "code",
   "execution_count": 124,
   "id": "2937d269",
   "metadata": {},
   "outputs": [
    {
     "data": {
      "text/plain": "       Yaş  Maaş  Çalışma Saati  Günlük Çalışma Saati\nSinem   92    29             43              6.142857\nÖmer    77    72             49              7.000000\nGece    39    49              1              0.142857",
      "text/html": "<div>\n<style scoped>\n    .dataframe tbody tr th:only-of-type {\n        vertical-align: middle;\n    }\n\n    .dataframe tbody tr th {\n        vertical-align: top;\n    }\n\n    .dataframe thead th {\n        text-align: right;\n    }\n</style>\n<table border=\"1\" class=\"dataframe\">\n  <thead>\n    <tr style=\"text-align: right;\">\n      <th></th>\n      <th>Yaş</th>\n      <th>Maaş</th>\n      <th>Çalışma Saati</th>\n      <th>Günlük Çalışma Saati</th>\n    </tr>\n  </thead>\n  <tbody>\n    <tr>\n      <th>Sinem</th>\n      <td>92</td>\n      <td>29</td>\n      <td>43</td>\n      <td>6.142857</td>\n    </tr>\n    <tr>\n      <th>Ömer</th>\n      <td>77</td>\n      <td>72</td>\n      <td>49</td>\n      <td>7.000000</td>\n    </tr>\n    <tr>\n      <th>Gece</th>\n      <td>39</td>\n      <td>49</td>\n      <td>1</td>\n      <td>0.142857</td>\n    </tr>\n  </tbody>\n</table>\n</div>"
     },
     "execution_count": 124,
     "metadata": {},
     "output_type": "execute_result"
    }
   ],
   "source": [
    "new_data_frame"
   ]
  },
  {
   "cell_type": "code",
   "execution_count": 125,
   "id": "a7fe65d1",
   "metadata": {},
   "outputs": [
    {
     "data": {
      "text/plain": "       Yaş  Maaş  Çalışma Saati\nSinem   92    29             43\nÖmer    77    72             49\nGece    39    49              1",
      "text/html": "<div>\n<style scoped>\n    .dataframe tbody tr th:only-of-type {\n        vertical-align: middle;\n    }\n\n    .dataframe tbody tr th {\n        vertical-align: top;\n    }\n\n    .dataframe thead th {\n        text-align: right;\n    }\n</style>\n<table border=\"1\" class=\"dataframe\">\n  <thead>\n    <tr style=\"text-align: right;\">\n      <th></th>\n      <th>Yaş</th>\n      <th>Maaş</th>\n      <th>Çalışma Saati</th>\n    </tr>\n  </thead>\n  <tbody>\n    <tr>\n      <th>Sinem</th>\n      <td>92</td>\n      <td>29</td>\n      <td>43</td>\n    </tr>\n    <tr>\n      <th>Ömer</th>\n      <td>77</td>\n      <td>72</td>\n      <td>49</td>\n    </tr>\n    <tr>\n      <th>Gece</th>\n      <td>39</td>\n      <td>49</td>\n      <td>1</td>\n    </tr>\n  </tbody>\n</table>\n</div>"
     },
     "execution_count": 125,
     "metadata": {},
     "output_type": "execute_result"
    }
   ],
   "source": [
    "new_data_frame.drop(\"Günlük Çalışma Saati\",axis=1)"
   ]
  },
  {
   "cell_type": "code",
   "execution_count": 126,
   "id": "cf2088bc",
   "metadata": {},
   "outputs": [
    {
     "data": {
      "text/plain": "       Yaş  Maaş  Çalışma Saati  Günlük Çalışma Saati\nSinem   92    29             43              6.142857\nÖmer    77    72             49              7.000000",
      "text/html": "<div>\n<style scoped>\n    .dataframe tbody tr th:only-of-type {\n        vertical-align: middle;\n    }\n\n    .dataframe tbody tr th {\n        vertical-align: top;\n    }\n\n    .dataframe thead th {\n        text-align: right;\n    }\n</style>\n<table border=\"1\" class=\"dataframe\">\n  <thead>\n    <tr style=\"text-align: right;\">\n      <th></th>\n      <th>Yaş</th>\n      <th>Maaş</th>\n      <th>Çalışma Saati</th>\n      <th>Günlük Çalışma Saati</th>\n    </tr>\n  </thead>\n  <tbody>\n    <tr>\n      <th>Sinem</th>\n      <td>92</td>\n      <td>29</td>\n      <td>43</td>\n      <td>6.142857</td>\n    </tr>\n    <tr>\n      <th>Ömer</th>\n      <td>77</td>\n      <td>72</td>\n      <td>49</td>\n      <td>7.000000</td>\n    </tr>\n  </tbody>\n</table>\n</div>"
     },
     "execution_count": 126,
     "metadata": {},
     "output_type": "execute_result"
    }
   ],
   "source": [
    "new_data_frame.drop(\"Gece\",axis=0)"
   ]
  },
  {
   "cell_type": "code",
   "execution_count": 127,
   "id": "5b6b55ef",
   "metadata": {},
   "outputs": [],
   "source": [
    "new_data_frame.drop(\"Günlük Çalışma Saati\",axis=1,inplace=True)"
   ]
  },
  {
   "cell_type": "code",
   "execution_count": 128,
   "id": "546f2353",
   "metadata": {},
   "outputs": [
    {
     "data": {
      "text/plain": "       Yaş  Maaş  Çalışma Saati\nSinem   92    29             43\nÖmer    77    72             49\nGece    39    49              1",
      "text/html": "<div>\n<style scoped>\n    .dataframe tbody tr th:only-of-type {\n        vertical-align: middle;\n    }\n\n    .dataframe tbody tr th {\n        vertical-align: top;\n    }\n\n    .dataframe thead th {\n        text-align: right;\n    }\n</style>\n<table border=\"1\" class=\"dataframe\">\n  <thead>\n    <tr style=\"text-align: right;\">\n      <th></th>\n      <th>Yaş</th>\n      <th>Maaş</th>\n      <th>Çalışma Saati</th>\n    </tr>\n  </thead>\n  <tbody>\n    <tr>\n      <th>Sinem</th>\n      <td>92</td>\n      <td>29</td>\n      <td>43</td>\n    </tr>\n    <tr>\n      <th>Ömer</th>\n      <td>77</td>\n      <td>72</td>\n      <td>49</td>\n    </tr>\n    <tr>\n      <th>Gece</th>\n      <td>39</td>\n      <td>49</td>\n      <td>1</td>\n    </tr>\n  </tbody>\n</table>\n</div>"
     },
     "execution_count": 128,
     "metadata": {},
     "output_type": "execute_result"
    }
   ],
   "source": [
    "new_data_frame"
   ]
  },
  {
   "cell_type": "code",
   "execution_count": 129,
   "id": "5c6b4a2a",
   "metadata": {},
   "outputs": [
    {
     "data": {
      "text/plain": "       Yaş  Maaş  Çalışma Saati\nSinem   92    29             43\nÖmer    77    72             49\nGece    39    49              1",
      "text/html": "<div>\n<style scoped>\n    .dataframe tbody tr th:only-of-type {\n        vertical-align: middle;\n    }\n\n    .dataframe tbody tr th {\n        vertical-align: top;\n    }\n\n    .dataframe thead th {\n        text-align: right;\n    }\n</style>\n<table border=\"1\" class=\"dataframe\">\n  <thead>\n    <tr style=\"text-align: right;\">\n      <th></th>\n      <th>Yaş</th>\n      <th>Maaş</th>\n      <th>Çalışma Saati</th>\n    </tr>\n  </thead>\n  <tbody>\n    <tr>\n      <th>Sinem</th>\n      <td>92</td>\n      <td>29</td>\n      <td>43</td>\n    </tr>\n    <tr>\n      <th>Ömer</th>\n      <td>77</td>\n      <td>72</td>\n      <td>49</td>\n    </tr>\n    <tr>\n      <th>Gece</th>\n      <td>39</td>\n      <td>49</td>\n      <td>1</td>\n    </tr>\n  </tbody>\n</table>\n</div>"
     },
     "execution_count": 129,
     "metadata": {},
     "output_type": "execute_result"
    }
   ],
   "source": [
    "new_data_frame[new_data_frame[\"Yaş\"] > 10]"
   ]
  },
  {
   "cell_type": "code",
   "execution_count": 130,
   "id": "d334b1bf",
   "metadata": {},
   "outputs": [
    {
     "data": {
      "text/plain": "Sinem    True\nÖmer     True\nGece     True\nName: Yaş, dtype: bool"
     },
     "execution_count": 130,
     "metadata": {},
     "output_type": "execute_result"
    }
   ],
   "source": [
    "new_data_frame[\"Yaş\"] > 10"
   ]
  },
  {
   "cell_type": "code",
   "execution_count": 131,
   "id": "8b892342",
   "metadata": {},
   "outputs": [
    {
     "data": {
      "text/plain": "        Yaş  Maaş  Çalışma Saati\nSinem  True  True           True\nÖmer   True  True           True\nGece   True  True          False",
      "text/html": "<div>\n<style scoped>\n    .dataframe tbody tr th:only-of-type {\n        vertical-align: middle;\n    }\n\n    .dataframe tbody tr th {\n        vertical-align: top;\n    }\n\n    .dataframe thead th {\n        text-align: right;\n    }\n</style>\n<table border=\"1\" class=\"dataframe\">\n  <thead>\n    <tr style=\"text-align: right;\">\n      <th></th>\n      <th>Yaş</th>\n      <th>Maaş</th>\n      <th>Çalışma Saati</th>\n    </tr>\n  </thead>\n  <tbody>\n    <tr>\n      <th>Sinem</th>\n      <td>True</td>\n      <td>True</td>\n      <td>True</td>\n    </tr>\n    <tr>\n      <th>Ömer</th>\n      <td>True</td>\n      <td>True</td>\n      <td>True</td>\n    </tr>\n    <tr>\n      <th>Gece</th>\n      <td>True</td>\n      <td>True</td>\n      <td>False</td>\n    </tr>\n  </tbody>\n</table>\n</div>"
     },
     "execution_count": 131,
     "metadata": {},
     "output_type": "execute_result"
    }
   ],
   "source": [
    "new_data_frame > 10"
   ]
  },
  {
   "cell_type": "code",
   "execution_count": 132,
   "id": "def18b0c",
   "metadata": {},
   "outputs": [
    {
     "data": {
      "text/plain": "       Yaş  Maaş  Çalışma Saati Yeni index listesi\nSinem   92    29             43               Düno\nÖmer    77    72             49                Fox\nGece    39    49              1                Mal",
      "text/html": "<div>\n<style scoped>\n    .dataframe tbody tr th:only-of-type {\n        vertical-align: middle;\n    }\n\n    .dataframe tbody tr th {\n        vertical-align: top;\n    }\n\n    .dataframe thead th {\n        text-align: right;\n    }\n</style>\n<table border=\"1\" class=\"dataframe\">\n  <thead>\n    <tr style=\"text-align: right;\">\n      <th></th>\n      <th>Yaş</th>\n      <th>Maaş</th>\n      <th>Çalışma Saati</th>\n      <th>Yeni index listesi</th>\n    </tr>\n  </thead>\n  <tbody>\n    <tr>\n      <th>Sinem</th>\n      <td>92</td>\n      <td>29</td>\n      <td>43</td>\n      <td>Düno</td>\n    </tr>\n    <tr>\n      <th>Ömer</th>\n      <td>77</td>\n      <td>72</td>\n      <td>49</td>\n      <td>Fox</td>\n    </tr>\n    <tr>\n      <th>Gece</th>\n      <td>39</td>\n      <td>49</td>\n      <td>1</td>\n      <td>Mal</td>\n    </tr>\n  </tbody>\n</table>\n</div>"
     },
     "execution_count": 132,
     "metadata": {},
     "output_type": "execute_result"
    }
   ],
   "source": [
    "new_data_frame[\"Yeni index listesi\"] = [\"Düno\",\"Fox\",\"Mal\"]\n",
    "new_data_frame"
   ]
  },
  {
   "cell_type": "code",
   "execution_count": 133,
   "id": "2ab5484d",
   "metadata": {},
   "outputs": [],
   "source": [
    "new_data_frame.set_index(\"Yeni index listesi\",inplace=True)"
   ]
  },
  {
   "cell_type": "code",
   "execution_count": 134,
   "id": "36677886",
   "metadata": {},
   "outputs": [],
   "source": [
    "new_data_frame.reset_index(inplace=True)"
   ]
  },
  {
   "cell_type": "code",
   "execution_count": 135,
   "id": "982970a3",
   "metadata": {},
   "outputs": [
    {
     "data": {
      "text/plain": "  Yeni index listesi  Yaş  Maaş  Çalışma Saati\n0               Düno   92    29             43\n1                Fox   77    72             49\n2                Mal   39    49              1",
      "text/html": "<div>\n<style scoped>\n    .dataframe tbody tr th:only-of-type {\n        vertical-align: middle;\n    }\n\n    .dataframe tbody tr th {\n        vertical-align: top;\n    }\n\n    .dataframe thead th {\n        text-align: right;\n    }\n</style>\n<table border=\"1\" class=\"dataframe\">\n  <thead>\n    <tr style=\"text-align: right;\">\n      <th></th>\n      <th>Yeni index listesi</th>\n      <th>Yaş</th>\n      <th>Maaş</th>\n      <th>Çalışma Saati</th>\n    </tr>\n  </thead>\n  <tbody>\n    <tr>\n      <th>0</th>\n      <td>Düno</td>\n      <td>92</td>\n      <td>29</td>\n      <td>43</td>\n    </tr>\n    <tr>\n      <th>1</th>\n      <td>Fox</td>\n      <td>77</td>\n      <td>72</td>\n      <td>49</td>\n    </tr>\n    <tr>\n      <th>2</th>\n      <td>Mal</td>\n      <td>39</td>\n      <td>49</td>\n      <td>1</td>\n    </tr>\n  </tbody>\n</table>\n</div>"
     },
     "execution_count": 135,
     "metadata": {},
     "output_type": "execute_result"
    }
   ],
   "source": [
    "new_data_frame"
   ]
  },
  {
   "cell_type": "code",
   "execution_count": 136,
   "id": "d6520168",
   "metadata": {},
   "outputs": [],
   "source": [
    "new_data_frame.loc[3] = [\"Paşa\",10,100,5]"
   ]
  },
  {
   "cell_type": "code",
   "execution_count": 137,
   "id": "5024e865",
   "metadata": {},
   "outputs": [
    {
     "data": {
      "text/plain": "  Yeni index listesi  Yaş  Maaş  Çalışma Saati\n0               Düno   92    29             43\n1                Fox   77    72             49\n2                Mal   39    49              1\n3               Paşa   10   100              5",
      "text/html": "<div>\n<style scoped>\n    .dataframe tbody tr th:only-of-type {\n        vertical-align: middle;\n    }\n\n    .dataframe tbody tr th {\n        vertical-align: top;\n    }\n\n    .dataframe thead th {\n        text-align: right;\n    }\n</style>\n<table border=\"1\" class=\"dataframe\">\n  <thead>\n    <tr style=\"text-align: right;\">\n      <th></th>\n      <th>Yeni index listesi</th>\n      <th>Yaş</th>\n      <th>Maaş</th>\n      <th>Çalışma Saati</th>\n    </tr>\n  </thead>\n  <tbody>\n    <tr>\n      <th>0</th>\n      <td>Düno</td>\n      <td>92</td>\n      <td>29</td>\n      <td>43</td>\n    </tr>\n    <tr>\n      <th>1</th>\n      <td>Fox</td>\n      <td>77</td>\n      <td>72</td>\n      <td>49</td>\n    </tr>\n    <tr>\n      <th>2</th>\n      <td>Mal</td>\n      <td>39</td>\n      <td>49</td>\n      <td>1</td>\n    </tr>\n    <tr>\n      <th>3</th>\n      <td>Paşa</td>\n      <td>10</td>\n      <td>100</td>\n      <td>5</td>\n    </tr>\n  </tbody>\n</table>\n</div>"
     },
     "execution_count": 137,
     "metadata": {},
     "output_type": "execute_result"
    }
   ],
   "source": [
    "new_data_frame"
   ]
  },
  {
   "cell_type": "code",
   "execution_count": 138,
   "id": "198a9830",
   "metadata": {},
   "outputs": [
    {
     "data": {
      "text/plain": "[('Korkmaz', 'Sinem'),\n ('Korkmaz', 'Ömer'),\n ('Güngör', 'Gece'),\n ('Güngör', 'Paşa')]"
     },
     "execution_count": 138,
     "metadata": {},
     "output_type": "execute_result"
    }
   ],
   "source": [
    "data = list(zip([\"Korkmaz\",\"Korkmaz\",\"Güngör\",\"Güngör\"],[\"Sinem\",\"Ömer\",\"Gece\",\"Paşa\"]))\n",
    "data"
   ]
  },
  {
   "cell_type": "code",
   "execution_count": 139,
   "id": "88d9a827",
   "metadata": {},
   "outputs": [],
   "source": [
    "indeksler = pd.MultiIndex.from_tuples(data)"
   ]
  },
  {
   "cell_type": "code",
   "execution_count": 140,
   "id": "84db6cae",
   "metadata": {},
   "outputs": [
    {
     "data": {
      "text/plain": "array([['18', '19-07-2003'],\n       ['18', '19-05-2003'],\n       ['2', '19-01-2021'],\n       ['1', '18-06-2021']], dtype='<U11')"
     },
     "execution_count": 140,
     "metadata": {},
     "output_type": "execute_result"
    }
   ],
   "source": [
    "data_1 = np.array([[18,\"19-07-2003\"],[18,\"19-05-2003\"],[2,\"19-01-2021\"],[1,\"18-06-2021\"]])\n",
    "data_1"
   ]
  },
  {
   "cell_type": "code",
   "execution_count": 141,
   "id": "20e453cb",
   "metadata": {},
   "outputs": [
    {
     "data": {
      "text/plain": "              Yaş  Doğum Günü\nKorkmaz Sinem  18  19-07-2003\n        Ömer   18  19-05-2003\nGüngör  Gece    2  19-01-2021\n        Paşa    1  18-06-2021",
      "text/html": "<div>\n<style scoped>\n    .dataframe tbody tr th:only-of-type {\n        vertical-align: middle;\n    }\n\n    .dataframe tbody tr th {\n        vertical-align: top;\n    }\n\n    .dataframe thead th {\n        text-align: right;\n    }\n</style>\n<table border=\"1\" class=\"dataframe\">\n  <thead>\n    <tr style=\"text-align: right;\">\n      <th></th>\n      <th></th>\n      <th>Yaş</th>\n      <th>Doğum Günü</th>\n    </tr>\n  </thead>\n  <tbody>\n    <tr>\n      <th rowspan=\"2\" valign=\"top\">Korkmaz</th>\n      <th>Sinem</th>\n      <td>18</td>\n      <td>19-07-2003</td>\n    </tr>\n    <tr>\n      <th>Ömer</th>\n      <td>18</td>\n      <td>19-05-2003</td>\n    </tr>\n    <tr>\n      <th rowspan=\"2\" valign=\"top\">Güngör</th>\n      <th>Gece</th>\n      <td>2</td>\n      <td>19-01-2021</td>\n    </tr>\n    <tr>\n      <th>Paşa</th>\n      <td>1</td>\n      <td>18-06-2021</td>\n    </tr>\n  </tbody>\n</table>\n</div>"
     },
     "execution_count": 141,
     "metadata": {},
     "output_type": "execute_result"
    }
   ],
   "source": [
    "SoyDataFrame = pd.DataFrame(data_1,index=indeksler,columns=[\"Yaş\",\"Doğum Günü\"])\n",
    "SoyDataFrame"
   ]
  },
  {
   "cell_type": "code",
   "execution_count": 142,
   "id": "9e8a4f54",
   "metadata": {},
   "outputs": [
    {
     "data": {
      "text/plain": "              Yaş  Doğum Günü\nSoy     İsim                 \nKorkmaz Sinem  18  19-07-2003\n        Ömer   18  19-05-2003\nGüngör  Gece    2  19-01-2021\n        Paşa    1  18-06-2021",
      "text/html": "<div>\n<style scoped>\n    .dataframe tbody tr th:only-of-type {\n        vertical-align: middle;\n    }\n\n    .dataframe tbody tr th {\n        vertical-align: top;\n    }\n\n    .dataframe thead th {\n        text-align: right;\n    }\n</style>\n<table border=\"1\" class=\"dataframe\">\n  <thead>\n    <tr style=\"text-align: right;\">\n      <th></th>\n      <th></th>\n      <th>Yaş</th>\n      <th>Doğum Günü</th>\n    </tr>\n    <tr>\n      <th>Soy</th>\n      <th>İsim</th>\n      <th></th>\n      <th></th>\n    </tr>\n  </thead>\n  <tbody>\n    <tr>\n      <th rowspan=\"2\" valign=\"top\">Korkmaz</th>\n      <th>Sinem</th>\n      <td>18</td>\n      <td>19-07-2003</td>\n    </tr>\n    <tr>\n      <th>Ömer</th>\n      <td>18</td>\n      <td>19-05-2003</td>\n    </tr>\n    <tr>\n      <th rowspan=\"2\" valign=\"top\">Güngör</th>\n      <th>Gece</th>\n      <td>2</td>\n      <td>19-01-2021</td>\n    </tr>\n    <tr>\n      <th>Paşa</th>\n      <td>1</td>\n      <td>18-06-2021</td>\n    </tr>\n  </tbody>\n</table>\n</div>"
     },
     "execution_count": 142,
     "metadata": {},
     "output_type": "execute_result"
    }
   ],
   "source": [
    "SoyDataFrame.index.names = [\"Soy\",\"İsim\"]\n",
    "SoyDataFrame"
   ]
  },
  {
   "cell_type": "code",
   "execution_count": 143,
   "id": "efd5f9a0",
   "metadata": {},
   "outputs": [
    {
     "data": {
      "text/plain": "      Yaş  Doğum Günü\nİsim                 \nSinem  18  19-07-2003\nÖmer   18  19-05-2003",
      "text/html": "<div>\n<style scoped>\n    .dataframe tbody tr th:only-of-type {\n        vertical-align: middle;\n    }\n\n    .dataframe tbody tr th {\n        vertical-align: top;\n    }\n\n    .dataframe thead th {\n        text-align: right;\n    }\n</style>\n<table border=\"1\" class=\"dataframe\">\n  <thead>\n    <tr style=\"text-align: right;\">\n      <th></th>\n      <th>Yaş</th>\n      <th>Doğum Günü</th>\n    </tr>\n    <tr>\n      <th>İsim</th>\n      <th></th>\n      <th></th>\n    </tr>\n  </thead>\n  <tbody>\n    <tr>\n      <th>Sinem</th>\n      <td>18</td>\n      <td>19-07-2003</td>\n    </tr>\n    <tr>\n      <th>Ömer</th>\n      <td>18</td>\n      <td>19-05-2003</td>\n    </tr>\n  </tbody>\n</table>\n</div>"
     },
     "execution_count": 143,
     "metadata": {},
     "output_type": "execute_result"
    }
   ],
   "source": [
    "SoyDataFrame.loc[\"Korkmaz\"]"
   ]
  },
  {
   "cell_type": "code",
   "execution_count": 144,
   "id": "ec3564b1",
   "metadata": {},
   "outputs": [
    {
     "data": {
      "text/plain": "           Ankara  İstanbul  İzmir  Antalya\nCumartesi     3.0       2.0      5      NaN\nPazar        -4.0       NaN      4      8.0\nPazartesi    -4.0       3.0      4      9.0\nSalı          NaN       2.0      4      NaN",
      "text/html": "<div>\n<style scoped>\n    .dataframe tbody tr th:only-of-type {\n        vertical-align: middle;\n    }\n\n    .dataframe tbody tr th {\n        vertical-align: top;\n    }\n\n    .dataframe thead th {\n        text-align: right;\n    }\n</style>\n<table border=\"1\" class=\"dataframe\">\n  <thead>\n    <tr style=\"text-align: right;\">\n      <th></th>\n      <th>Ankara</th>\n      <th>İstanbul</th>\n      <th>İzmir</th>\n      <th>Antalya</th>\n    </tr>\n  </thead>\n  <tbody>\n    <tr>\n      <th>Cumartesi</th>\n      <td>3.0</td>\n      <td>2.0</td>\n      <td>5</td>\n      <td>NaN</td>\n    </tr>\n    <tr>\n      <th>Pazar</th>\n      <td>-4.0</td>\n      <td>NaN</td>\n      <td>4</td>\n      <td>8.0</td>\n    </tr>\n    <tr>\n      <th>Pazartesi</th>\n      <td>-4.0</td>\n      <td>3.0</td>\n      <td>4</td>\n      <td>9.0</td>\n    </tr>\n    <tr>\n      <th>Salı</th>\n      <td>NaN</td>\n      <td>2.0</td>\n      <td>4</td>\n      <td>NaN</td>\n    </tr>\n  </tbody>\n</table>\n</div>"
     },
     "execution_count": 144,
     "metadata": {},
     "output_type": "execute_result"
    }
   ],
   "source": [
    "sozluk = {\"Ankara\":[3,-4,-4,np.nan],\"İstanbul\":[2,np.nan,3,2],\"İzmir\":[5,4,4,4],\"Antalya\":[np.nan,8,9,np.nan]}\n",
    "data_frame = pd.DataFrame(sozluk,index=[\"Cumartesi\",\"Pazar\",\"Pazartesi\",\"Salı\"])\n",
    "data_frame"
   ]
  },
  {
   "cell_type": "code",
   "execution_count": 145,
   "id": "572b6b23",
   "metadata": {},
   "outputs": [
    {
     "data": {
      "text/plain": "           Ankara  İstanbul  İzmir  Antalya\nPazartesi    -4.0       3.0      4      9.0",
      "text/html": "<div>\n<style scoped>\n    .dataframe tbody tr th:only-of-type {\n        vertical-align: middle;\n    }\n\n    .dataframe tbody tr th {\n        vertical-align: top;\n    }\n\n    .dataframe thead th {\n        text-align: right;\n    }\n</style>\n<table border=\"1\" class=\"dataframe\">\n  <thead>\n    <tr style=\"text-align: right;\">\n      <th></th>\n      <th>Ankara</th>\n      <th>İstanbul</th>\n      <th>İzmir</th>\n      <th>Antalya</th>\n    </tr>\n  </thead>\n  <tbody>\n    <tr>\n      <th>Pazartesi</th>\n      <td>-4.0</td>\n      <td>3.0</td>\n      <td>4</td>\n      <td>9.0</td>\n    </tr>\n  </tbody>\n</table>\n</div>"
     },
     "execution_count": 145,
     "metadata": {},
     "output_type": "execute_result"
    }
   ],
   "source": [
    "data_frame.dropna()"
   ]
  },
  {
   "cell_type": "code",
   "execution_count": 146,
   "id": "12fc2844",
   "metadata": {},
   "outputs": [
    {
     "data": {
      "text/plain": "           İzmir\nCumartesi      5\nPazar          4\nPazartesi      4\nSalı           4",
      "text/html": "<div>\n<style scoped>\n    .dataframe tbody tr th:only-of-type {\n        vertical-align: middle;\n    }\n\n    .dataframe tbody tr th {\n        vertical-align: top;\n    }\n\n    .dataframe thead th {\n        text-align: right;\n    }\n</style>\n<table border=\"1\" class=\"dataframe\">\n  <thead>\n    <tr style=\"text-align: right;\">\n      <th></th>\n      <th>İzmir</th>\n    </tr>\n  </thead>\n  <tbody>\n    <tr>\n      <th>Cumartesi</th>\n      <td>5</td>\n    </tr>\n    <tr>\n      <th>Pazar</th>\n      <td>4</td>\n    </tr>\n    <tr>\n      <th>Pazartesi</th>\n      <td>4</td>\n    </tr>\n    <tr>\n      <th>Salı</th>\n      <td>4</td>\n    </tr>\n  </tbody>\n</table>\n</div>"
     },
     "execution_count": 146,
     "metadata": {},
     "output_type": "execute_result"
    }
   ],
   "source": [
    "data_frame.dropna(axis=1)"
   ]
  },
  {
   "cell_type": "code",
   "execution_count": 147,
   "id": "990dcdbb",
   "metadata": {},
   "outputs": [
    {
     "data": {
      "text/plain": "           Ankara  İstanbul  İzmir  Antalya\nCumartesi     3.0       2.0      5      NaN\nPazar        -4.0       NaN      4      8.0\nPazartesi    -4.0       3.0      4      9.0\nSalı          NaN       2.0      4      NaN",
      "text/html": "<div>\n<style scoped>\n    .dataframe tbody tr th:only-of-type {\n        vertical-align: middle;\n    }\n\n    .dataframe tbody tr th {\n        vertical-align: top;\n    }\n\n    .dataframe thead th {\n        text-align: right;\n    }\n</style>\n<table border=\"1\" class=\"dataframe\">\n  <thead>\n    <tr style=\"text-align: right;\">\n      <th></th>\n      <th>Ankara</th>\n      <th>İstanbul</th>\n      <th>İzmir</th>\n      <th>Antalya</th>\n    </tr>\n  </thead>\n  <tbody>\n    <tr>\n      <th>Cumartesi</th>\n      <td>3.0</td>\n      <td>2.0</td>\n      <td>5</td>\n      <td>NaN</td>\n    </tr>\n    <tr>\n      <th>Pazar</th>\n      <td>-4.0</td>\n      <td>NaN</td>\n      <td>4</td>\n      <td>8.0</td>\n    </tr>\n    <tr>\n      <th>Pazartesi</th>\n      <td>-4.0</td>\n      <td>3.0</td>\n      <td>4</td>\n      <td>9.0</td>\n    </tr>\n    <tr>\n      <th>Salı</th>\n      <td>NaN</td>\n      <td>2.0</td>\n      <td>4</td>\n      <td>NaN</td>\n    </tr>\n  </tbody>\n</table>\n</div>"
     },
     "execution_count": 147,
     "metadata": {},
     "output_type": "execute_result"
    }
   ],
   "source": [
    "data_frame.dropna(axis=1,thresh=2) #Niye işe yaramadı aq"
   ]
  },
  {
   "cell_type": "code",
   "execution_count": 148,
   "id": "f317b234",
   "metadata": {},
   "outputs": [
    {
     "data": {
      "text/plain": "          Ankara İstanbul  İzmir Antalya\nCumartesi    3.0      2.0      5       -\nPazar       -4.0        -      4     8.0\nPazartesi   -4.0      3.0      4     9.0\nSalı           -      2.0      4       -",
      "text/html": "<div>\n<style scoped>\n    .dataframe tbody tr th:only-of-type {\n        vertical-align: middle;\n    }\n\n    .dataframe tbody tr th {\n        vertical-align: top;\n    }\n\n    .dataframe thead th {\n        text-align: right;\n    }\n</style>\n<table border=\"1\" class=\"dataframe\">\n  <thead>\n    <tr style=\"text-align: right;\">\n      <th></th>\n      <th>Ankara</th>\n      <th>İstanbul</th>\n      <th>İzmir</th>\n      <th>Antalya</th>\n    </tr>\n  </thead>\n  <tbody>\n    <tr>\n      <th>Cumartesi</th>\n      <td>3.0</td>\n      <td>2.0</td>\n      <td>5</td>\n      <td>-</td>\n    </tr>\n    <tr>\n      <th>Pazar</th>\n      <td>-4.0</td>\n      <td>-</td>\n      <td>4</td>\n      <td>8.0</td>\n    </tr>\n    <tr>\n      <th>Pazartesi</th>\n      <td>-4.0</td>\n      <td>3.0</td>\n      <td>4</td>\n      <td>9.0</td>\n    </tr>\n    <tr>\n      <th>Salı</th>\n      <td>-</td>\n      <td>2.0</td>\n      <td>4</td>\n      <td>-</td>\n    </tr>\n  </tbody>\n</table>\n</div>"
     },
     "execution_count": 148,
     "metadata": {},
     "output_type": "execute_result"
    }
   ],
   "source": [
    "data_frame.fillna(\"-\")"
   ]
  },
  {
   "cell_type": "code",
   "execution_count": 149,
   "id": "81985475",
   "metadata": {},
   "outputs": [
    {
     "data": {
      "text/plain": "    Departman İsimler  Maaş\n0   Front-End   ahmet    45\n1   Front-End  mehmet    24\n2   Front-End    aslı    13\n3    Back-End   selim   457\n4    Back-End   necip   121\n5  Full-Stack    taci    35",
      "text/html": "<div>\n<style scoped>\n    .dataframe tbody tr th:only-of-type {\n        vertical-align: middle;\n    }\n\n    .dataframe tbody tr th {\n        vertical-align: top;\n    }\n\n    .dataframe thead th {\n        text-align: right;\n    }\n</style>\n<table border=\"1\" class=\"dataframe\">\n  <thead>\n    <tr style=\"text-align: right;\">\n      <th></th>\n      <th>Departman</th>\n      <th>İsimler</th>\n      <th>Maaş</th>\n    </tr>\n  </thead>\n  <tbody>\n    <tr>\n      <th>0</th>\n      <td>Front-End</td>\n      <td>ahmet</td>\n      <td>45</td>\n    </tr>\n    <tr>\n      <th>1</th>\n      <td>Front-End</td>\n      <td>mehmet</td>\n      <td>24</td>\n    </tr>\n    <tr>\n      <th>2</th>\n      <td>Front-End</td>\n      <td>aslı</td>\n      <td>13</td>\n    </tr>\n    <tr>\n      <th>3</th>\n      <td>Back-End</td>\n      <td>selim</td>\n      <td>457</td>\n    </tr>\n    <tr>\n      <th>4</th>\n      <td>Back-End</td>\n      <td>necip</td>\n      <td>121</td>\n    </tr>\n    <tr>\n      <th>5</th>\n      <td>Full-Stack</td>\n      <td>taci</td>\n      <td>35</td>\n    </tr>\n  </tbody>\n</table>\n</div>"
     },
     "execution_count": 149,
     "metadata": {},
     "output_type": "execute_result"
    }
   ],
   "source": [
    "maaslar = {\"Departman\":[\"Front-End\",\"Front-End\",\"Front-End\",\"Back-End\",\"Back-End\",\"Full-Stack\"],\n",
    "          \"İsimler\" : [\"ahmet\",\"mehmet\",\"aslı\",\"selim\",\"necip\",\"taci\"],\n",
    "          \"Maaş\" : [45,24,13,457,121,35]}\n",
    "df = pd.DataFrame(maaslar)\n",
    "df"
   ]
  },
  {
   "cell_type": "code",
   "execution_count": 150,
   "id": "131d4742",
   "metadata": {},
   "outputs": [
    {
     "data": {
      "text/plain": "            Maaş                                                           \n           count        mean         std    min    25%    50%    75%    max\nDepartman                                                                  \nBack-End     2.0  289.000000  237.587878  121.0  205.0  289.0  373.0  457.0\nFront-End    3.0   27.333333   16.258331   13.0   18.5   24.0   34.5   45.0\nFull-Stack   1.0   35.000000         NaN   35.0   35.0   35.0   35.0   35.0",
      "text/html": "<div>\n<style scoped>\n    .dataframe tbody tr th:only-of-type {\n        vertical-align: middle;\n    }\n\n    .dataframe tbody tr th {\n        vertical-align: top;\n    }\n\n    .dataframe thead tr th {\n        text-align: left;\n    }\n\n    .dataframe thead tr:last-of-type th {\n        text-align: right;\n    }\n</style>\n<table border=\"1\" class=\"dataframe\">\n  <thead>\n    <tr>\n      <th></th>\n      <th colspan=\"8\" halign=\"left\">Maaş</th>\n    </tr>\n    <tr>\n      <th></th>\n      <th>count</th>\n      <th>mean</th>\n      <th>std</th>\n      <th>min</th>\n      <th>25%</th>\n      <th>50%</th>\n      <th>75%</th>\n      <th>max</th>\n    </tr>\n    <tr>\n      <th>Departman</th>\n      <th></th>\n      <th></th>\n      <th></th>\n      <th></th>\n      <th></th>\n      <th></th>\n      <th></th>\n      <th></th>\n    </tr>\n  </thead>\n  <tbody>\n    <tr>\n      <th>Back-End</th>\n      <td>2.0</td>\n      <td>289.000000</td>\n      <td>237.587878</td>\n      <td>121.0</td>\n      <td>205.0</td>\n      <td>289.0</td>\n      <td>373.0</td>\n      <td>457.0</td>\n    </tr>\n    <tr>\n      <th>Front-End</th>\n      <td>3.0</td>\n      <td>27.333333</td>\n      <td>16.258331</td>\n      <td>13.0</td>\n      <td>18.5</td>\n      <td>24.0</td>\n      <td>34.5</td>\n      <td>45.0</td>\n    </tr>\n    <tr>\n      <th>Full-Stack</th>\n      <td>1.0</td>\n      <td>35.000000</td>\n      <td>NaN</td>\n      <td>35.0</td>\n      <td>35.0</td>\n      <td>35.0</td>\n      <td>35.0</td>\n      <td>35.0</td>\n    </tr>\n  </tbody>\n</table>\n</div>"
     },
     "execution_count": 150,
     "metadata": {},
     "output_type": "execute_result"
    }
   ],
   "source": [
    "df_groupby = df.groupby(\"Departman\")\n",
    "df_groupby.describe()"
   ]
  },
  {
   "cell_type": "code",
   "execution_count": 151,
   "id": "efe537a3",
   "metadata": {},
   "outputs": [
    {
     "data": {
      "text/plain": "                  Maaş\nDepartman             \nBack-End    289.000000\nFront-End    27.333333\nFull-Stack   35.000000",
      "text/html": "<div>\n<style scoped>\n    .dataframe tbody tr th:only-of-type {\n        vertical-align: middle;\n    }\n\n    .dataframe tbody tr th {\n        vertical-align: top;\n    }\n\n    .dataframe thead th {\n        text-align: right;\n    }\n</style>\n<table border=\"1\" class=\"dataframe\">\n  <thead>\n    <tr style=\"text-align: right;\">\n      <th></th>\n      <th>Maaş</th>\n    </tr>\n    <tr>\n      <th>Departman</th>\n      <th></th>\n    </tr>\n  </thead>\n  <tbody>\n    <tr>\n      <th>Back-End</th>\n      <td>289.000000</td>\n    </tr>\n    <tr>\n      <th>Front-End</th>\n      <td>27.333333</td>\n    </tr>\n    <tr>\n      <th>Full-Stack</th>\n      <td>35.000000</td>\n    </tr>\n  </tbody>\n</table>\n</div>"
     },
     "execution_count": 151,
     "metadata": {},
     "output_type": "execute_result"
    }
   ],
   "source": [
    "df_groupby.mean(\"Maaş\")"
   ]
  },
  {
   "cell_type": "code",
   "execution_count": 152,
   "id": "d829ce1e",
   "metadata": {},
   "outputs": [
    {
     "data": {
      "text/plain": "    Departman İsimler  Maaş  Yaş\n0   Front-End   ahmet    45   22\n1   Front-End  mehmet    24   26\n2   Front-End    aslı    13   22\n3    Back-End   selim   457   19\n4    Back-End   necip   121   32\n5  Full-Stack    taci    35   30",
      "text/html": "<div>\n<style scoped>\n    .dataframe tbody tr th:only-of-type {\n        vertical-align: middle;\n    }\n\n    .dataframe tbody tr th {\n        vertical-align: top;\n    }\n\n    .dataframe thead th {\n        text-align: right;\n    }\n</style>\n<table border=\"1\" class=\"dataframe\">\n  <thead>\n    <tr style=\"text-align: right;\">\n      <th></th>\n      <th>Departman</th>\n      <th>İsimler</th>\n      <th>Maaş</th>\n      <th>Yaş</th>\n    </tr>\n  </thead>\n  <tbody>\n    <tr>\n      <th>0</th>\n      <td>Front-End</td>\n      <td>ahmet</td>\n      <td>45</td>\n      <td>22</td>\n    </tr>\n    <tr>\n      <th>1</th>\n      <td>Front-End</td>\n      <td>mehmet</td>\n      <td>24</td>\n      <td>26</td>\n    </tr>\n    <tr>\n      <th>2</th>\n      <td>Front-End</td>\n      <td>aslı</td>\n      <td>13</td>\n      <td>22</td>\n    </tr>\n    <tr>\n      <th>3</th>\n      <td>Back-End</td>\n      <td>selim</td>\n      <td>457</td>\n      <td>19</td>\n    </tr>\n    <tr>\n      <th>4</th>\n      <td>Back-End</td>\n      <td>necip</td>\n      <td>121</td>\n      <td>32</td>\n    </tr>\n    <tr>\n      <th>5</th>\n      <td>Full-Stack</td>\n      <td>taci</td>\n      <td>35</td>\n      <td>30</td>\n    </tr>\n  </tbody>\n</table>\n</div>"
     },
     "execution_count": 152,
     "metadata": {},
     "output_type": "execute_result"
    }
   ],
   "source": [
    "df[\"Yaş\"] = [22,26,22,19,32,30]\n",
    "df"
   ]
  },
  {
   "cell_type": "code",
   "execution_count": 153,
   "id": "f3732371",
   "metadata": {},
   "outputs": [
    {
     "data": {
      "text/plain": "            Maaş                                                             \\\n           count        mean         std    min    25%    50%    75%    max   \nDepartman                                                                     \nBack-End     2.0  289.000000  237.587878  121.0  205.0  289.0  373.0  457.0   \nFront-End    3.0   27.333333   16.258331   13.0   18.5   24.0   34.5   45.0   \nFull-Stack   1.0   35.000000         NaN   35.0   35.0   35.0   35.0   35.0   \n\n             Yaş                                                       \n           count       mean       std   min    25%   50%    75%   max  \nDepartman                                                              \nBack-End     2.0  25.500000  9.192388  19.0  22.25  25.5  28.75  32.0  \nFront-End    3.0  23.333333  2.309401  22.0  22.00  22.0  24.00  26.0  \nFull-Stack   1.0  30.000000       NaN  30.0  30.00  30.0  30.00  30.0  ",
      "text/html": "<div>\n<style scoped>\n    .dataframe tbody tr th:only-of-type {\n        vertical-align: middle;\n    }\n\n    .dataframe tbody tr th {\n        vertical-align: top;\n    }\n\n    .dataframe thead tr th {\n        text-align: left;\n    }\n\n    .dataframe thead tr:last-of-type th {\n        text-align: right;\n    }\n</style>\n<table border=\"1\" class=\"dataframe\">\n  <thead>\n    <tr>\n      <th></th>\n      <th colspan=\"8\" halign=\"left\">Maaş</th>\n      <th colspan=\"8\" halign=\"left\">Yaş</th>\n    </tr>\n    <tr>\n      <th></th>\n      <th>count</th>\n      <th>mean</th>\n      <th>std</th>\n      <th>min</th>\n      <th>25%</th>\n      <th>50%</th>\n      <th>75%</th>\n      <th>max</th>\n      <th>count</th>\n      <th>mean</th>\n      <th>std</th>\n      <th>min</th>\n      <th>25%</th>\n      <th>50%</th>\n      <th>75%</th>\n      <th>max</th>\n    </tr>\n    <tr>\n      <th>Departman</th>\n      <th></th>\n      <th></th>\n      <th></th>\n      <th></th>\n      <th></th>\n      <th></th>\n      <th></th>\n      <th></th>\n      <th></th>\n      <th></th>\n      <th></th>\n      <th></th>\n      <th></th>\n      <th></th>\n      <th></th>\n      <th></th>\n    </tr>\n  </thead>\n  <tbody>\n    <tr>\n      <th>Back-End</th>\n      <td>2.0</td>\n      <td>289.000000</td>\n      <td>237.587878</td>\n      <td>121.0</td>\n      <td>205.0</td>\n      <td>289.0</td>\n      <td>373.0</td>\n      <td>457.0</td>\n      <td>2.0</td>\n      <td>25.500000</td>\n      <td>9.192388</td>\n      <td>19.0</td>\n      <td>22.25</td>\n      <td>25.5</td>\n      <td>28.75</td>\n      <td>32.0</td>\n    </tr>\n    <tr>\n      <th>Front-End</th>\n      <td>3.0</td>\n      <td>27.333333</td>\n      <td>16.258331</td>\n      <td>13.0</td>\n      <td>18.5</td>\n      <td>24.0</td>\n      <td>34.5</td>\n      <td>45.0</td>\n      <td>3.0</td>\n      <td>23.333333</td>\n      <td>2.309401</td>\n      <td>22.0</td>\n      <td>22.00</td>\n      <td>22.0</td>\n      <td>24.00</td>\n      <td>26.0</td>\n    </tr>\n    <tr>\n      <th>Full-Stack</th>\n      <td>1.0</td>\n      <td>35.000000</td>\n      <td>NaN</td>\n      <td>35.0</td>\n      <td>35.0</td>\n      <td>35.0</td>\n      <td>35.0</td>\n      <td>35.0</td>\n      <td>1.0</td>\n      <td>30.000000</td>\n      <td>NaN</td>\n      <td>30.0</td>\n      <td>30.00</td>\n      <td>30.0</td>\n      <td>30.00</td>\n      <td>30.0</td>\n    </tr>\n  </tbody>\n</table>\n</div>"
     },
     "execution_count": 153,
     "metadata": {},
     "output_type": "execute_result"
    }
   ],
   "source": [
    "df_groupby.describe()"
   ]
  },
  {
   "cell_type": "code",
   "execution_count": 154,
   "id": "e8017b5a",
   "metadata": {},
   "outputs": [
    {
     "data": {
      "text/plain": "                  Maaş\nDepartman             \nBack-End    289.000000\nFront-End    27.333333\nFull-Stack   35.000000",
      "text/html": "<div>\n<style scoped>\n    .dataframe tbody tr th:only-of-type {\n        vertical-align: middle;\n    }\n\n    .dataframe tbody tr th {\n        vertical-align: top;\n    }\n\n    .dataframe thead th {\n        text-align: right;\n    }\n</style>\n<table border=\"1\" class=\"dataframe\">\n  <thead>\n    <tr style=\"text-align: right;\">\n      <th></th>\n      <th>Maaş</th>\n    </tr>\n    <tr>\n      <th>Departman</th>\n      <th></th>\n    </tr>\n  </thead>\n  <tbody>\n    <tr>\n      <th>Back-End</th>\n      <td>289.000000</td>\n    </tr>\n    <tr>\n      <th>Front-End</th>\n      <td>27.333333</td>\n    </tr>\n    <tr>\n      <th>Full-Stack</th>\n      <td>35.000000</td>\n    </tr>\n  </tbody>\n</table>\n</div>"
     },
     "execution_count": 154,
     "metadata": {},
     "output_type": "execute_result"
    }
   ],
   "source": [
    "df_groupby.mean(\"Maaş\")"
   ]
  },
  {
   "cell_type": "code",
   "execution_count": 155,
   "id": "441a0433",
   "metadata": {},
   "outputs": [
    {
     "data": {
      "text/plain": "Cumartesi     True\nPazar        False\nPazartesi    False\nSalı          True\nName: Antalya, dtype: bool"
     },
     "execution_count": 155,
     "metadata": {},
     "output_type": "execute_result"
    }
   ],
   "source": [
    "data_frame[\"Antalya\"].isnull()"
   ]
  },
  {
   "cell_type": "code",
   "execution_count": 158,
   "id": "57cf7a6b",
   "metadata": {
    "pycharm": {
     "name": "#%%\n"
    }
   },
   "outputs": [
    {
     "data": {
      "text/plain": "       Departman İsimler  Maaş  Yaş\n0   Front-End 45   ahmet    45   22\n1   Front-End 24  mehmet    24   26\n2   Front-End 13    aslı    13   22\n3   Back-End 457   selim   457   19\n4   Back-End 121   necip   121   32\n5  Full-Stack 35    taci    35   30",
      "text/html": "<div>\n<style scoped>\n    .dataframe tbody tr th:only-of-type {\n        vertical-align: middle;\n    }\n\n    .dataframe tbody tr th {\n        vertical-align: top;\n    }\n\n    .dataframe thead th {\n        text-align: right;\n    }\n</style>\n<table border=\"1\" class=\"dataframe\">\n  <thead>\n    <tr style=\"text-align: right;\">\n      <th></th>\n      <th>Departman</th>\n      <th>İsimler</th>\n      <th>Maaş</th>\n      <th>Yaş</th>\n    </tr>\n  </thead>\n  <tbody>\n    <tr>\n      <th>0</th>\n      <td>Front-End 45</td>\n      <td>ahmet</td>\n      <td>45</td>\n      <td>22</td>\n    </tr>\n    <tr>\n      <th>1</th>\n      <td>Front-End 24</td>\n      <td>mehmet</td>\n      <td>24</td>\n      <td>26</td>\n    </tr>\n    <tr>\n      <th>2</th>\n      <td>Front-End 13</td>\n      <td>aslı</td>\n      <td>13</td>\n      <td>22</td>\n    </tr>\n    <tr>\n      <th>3</th>\n      <td>Back-End 457</td>\n      <td>selim</td>\n      <td>457</td>\n      <td>19</td>\n    </tr>\n    <tr>\n      <th>4</th>\n      <td>Back-End 121</td>\n      <td>necip</td>\n      <td>121</td>\n      <td>32</td>\n    </tr>\n    <tr>\n      <th>5</th>\n      <td>Full-Stack 35</td>\n      <td>taci</td>\n      <td>35</td>\n      <td>30</td>\n    </tr>\n  </tbody>\n</table>\n</div>"
     },
     "execution_count": 158,
     "metadata": {},
     "output_type": "execute_result"
    }
   ],
   "source": [
    "df[\"Departman\"] = df[\"Departman\"] + \" \" + df[\"Maaş\"].astype(str)\n",
    "df"
   ]
  },
  {
   "cell_type": "code",
   "execution_count": 165,
   "outputs": [
    {
     "name": "stderr",
     "output_type": "stream",
     "text": [
      "C:\\Users\\Fox\\AppData\\Local\\Temp\\ipykernel_6676\\3857118911.py:1: FutureWarning: The default value of regex will change from True to False in a future version.\n",
      "  a = df[\"Departman\"].str.replace(\"^[a-zA-Z-]+\",\"\").astype(int)\n"
     ]
    },
    {
     "data": {
      "text/plain": "0     45\n1     24\n2     13\n3    457\n4    121\n5     35\nName: Departman, dtype: int32"
     },
     "execution_count": 165,
     "metadata": {},
     "output_type": "execute_result"
    }
   ],
   "source": [
    "a = df[\"Departman\"].str.replace(\"^[a-zA-Z-]+\",\"\").astype(int)\n",
    "a"
   ],
   "metadata": {
    "collapsed": false,
    "pycharm": {
     "name": "#%%\n"
    }
   }
  },
  {
   "cell_type": "code",
   "execution_count": 163,
   "outputs": [
    {
     "data": {
      "text/plain": "       Departman İsimler  Maaş  Yaş\n0   Front-End 45   ahmet    45   22\n1   Front-End 24  mehmet    24   26\n2   Front-End 13    aslı    13   22\n3   Back-End 457   selim   457   19\n4   Back-End 121   necip   121   32\n5  Full-Stack 35    taci    35   30",
      "text/html": "<div>\n<style scoped>\n    .dataframe tbody tr th:only-of-type {\n        vertical-align: middle;\n    }\n\n    .dataframe tbody tr th {\n        vertical-align: top;\n    }\n\n    .dataframe thead th {\n        text-align: right;\n    }\n</style>\n<table border=\"1\" class=\"dataframe\">\n  <thead>\n    <tr style=\"text-align: right;\">\n      <th></th>\n      <th>Departman</th>\n      <th>İsimler</th>\n      <th>Maaş</th>\n      <th>Yaş</th>\n    </tr>\n  </thead>\n  <tbody>\n    <tr>\n      <th>0</th>\n      <td>Front-End 45</td>\n      <td>ahmet</td>\n      <td>45</td>\n      <td>22</td>\n    </tr>\n    <tr>\n      <th>1</th>\n      <td>Front-End 24</td>\n      <td>mehmet</td>\n      <td>24</td>\n      <td>26</td>\n    </tr>\n    <tr>\n      <th>2</th>\n      <td>Front-End 13</td>\n      <td>aslı</td>\n      <td>13</td>\n      <td>22</td>\n    </tr>\n    <tr>\n      <th>3</th>\n      <td>Back-End 457</td>\n      <td>selim</td>\n      <td>457</td>\n      <td>19</td>\n    </tr>\n    <tr>\n      <th>4</th>\n      <td>Back-End 121</td>\n      <td>necip</td>\n      <td>121</td>\n      <td>32</td>\n    </tr>\n    <tr>\n      <th>5</th>\n      <td>Full-Stack 35</td>\n      <td>taci</td>\n      <td>35</td>\n      <td>30</td>\n    </tr>\n  </tbody>\n</table>\n</div>"
     },
     "execution_count": 163,
     "metadata": {},
     "output_type": "execute_result"
    }
   ],
   "source": [],
   "metadata": {
    "collapsed": false,
    "pycharm": {
     "name": "#%%\n"
    }
   }
  },
  {
   "cell_type": "code",
   "execution_count": 3,
   "outputs": [
    {
     "name": "stderr",
     "output_type": "stream",
     "text": [
      "C:\\Users\\Fox\\AppData\\Local\\Temp\\ipykernel_5340\\4161590384.py:2: FutureWarning: The default value of regex will change from True to False in a future version.\n",
      "  new_df[\"duration\"].str.replace(\"[\\w]+$\",\"\").fillna(0).astype(int)\n"
     ]
    },
    {
     "data": {
      "text/plain": "0        90\n1         2\n2         1\n3         1\n4         2\n       ... \n8802    158\n8803      2\n8804     88\n8805     88\n8806    111\nName: duration, Length: 8807, dtype: int32"
     },
     "execution_count": 3,
     "metadata": {},
     "output_type": "execute_result"
    }
   ],
   "source": [
    "new_df = pd.read_csv(\"netflix.csv\")\n",
    "new_df[\"duration\"].str.replace(\"[\\w]+$\",\"\").fillna(0).astype(int)"
   ],
   "metadata": {
    "collapsed": false,
    "pycharm": {
     "name": "#%%\n"
    }
   }
  },
  {
   "cell_type": "code",
   "execution_count": 32,
   "outputs": [
    {
     "name": "stdout",
     "output_type": "stream",
     "text": [
      "{'0': 4248, '9': 4499, 'm': 6128, 'i': 6128, 'n': 8804, ' ': 8806, '1': 9709, '2': 5276, 'S': 2676, 'e': 2676, 'a': 2679, 's': 3559, 'o': 2676, '3': 4877, '4': 4635, '5': 4613, '6': 4667, '7': 4652, '8': 4809, 'N': 6}\n"
     ]
    }
   ],
   "source": [
    "a = new_df[\"duration\"].to_string().replace(\" \",\"\").replace(\"\\n\",\" \")\n",
    "dicts = dict()\n",
    "for i in a:\n",
    "    if i in dicts:\n",
    "        dicts[i] += 1\n",
    "    else:\n",
    "        dicts[i] = 1\n",
    "print(dicts)"
   ],
   "metadata": {
    "collapsed": false,
    "pycharm": {
     "name": "#%%\n"
    }
   }
  },
  {
   "cell_type": "code",
   "execution_count": null,
   "outputs": [],
   "source": [],
   "metadata": {
    "collapsed": false,
    "pycharm": {
     "name": "#%%\n"
    }
   }
  }
 ],
 "metadata": {
  "kernelspec": {
   "display_name": "Python 3 (ipykernel)",
   "language": "python",
   "name": "python3"
  },
  "language_info": {
   "codemirror_mode": {
    "name": "ipython",
    "version": 3
   },
   "file_extension": ".py",
   "mimetype": "text/x-python",
   "name": "python",
   "nbconvert_exporter": "python",
   "pygments_lexer": "ipython3",
   "version": "3.8.9"
  }
 },
 "nbformat": 4,
 "nbformat_minor": 5
}